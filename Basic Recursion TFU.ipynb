{
 "cells": [
  {
   "cell_type": "code",
   "execution_count": 15,
   "id": "1748b8c0-23b7-4dc0-92c2-8c823c6099ea",
   "metadata": {},
   "outputs": [],
   "source": [
    "def print_name(n):\n",
    "    if n == 1:\n",
    "         print(\"Manikanta\")\n",
    "    elif n == 0:\n",
    "        print(\"\")\n",
    "    else:\n",
    "        print(\"Manikanta\")\n",
    "        print_name(n-1)"
   ]
  },
  {
   "cell_type": "code",
   "execution_count": 18,
   "id": "ab1c2dec-bfa7-44b4-96bb-5f9477cad0b1",
   "metadata": {},
   "outputs": [
    {
     "name": "stdout",
     "output_type": "stream",
     "text": [
      "Manikanta\n",
      "Manikanta\n",
      "Manikanta\n",
      "Manikanta\n",
      "Manikanta\n"
     ]
    }
   ],
   "source": [
    "print_name(5)"
   ]
  },
  {
   "cell_type": "code",
   "execution_count": 42,
   "id": "99ec0e74-d734-4dfd-a2a9-dd6ea0eb5061",
   "metadata": {},
   "outputs": [],
   "source": [
    "def print_nto1(n):\n",
    "    if n>0:\n",
    "        print(n)\n",
    "        print_1ton(n-1)"
   ]
  },
  {
   "cell_type": "code",
   "execution_count": 43,
   "id": "8b300365-c714-4bd9-a0e4-7fba7b94c129",
   "metadata": {},
   "outputs": [
    {
     "name": "stdout",
     "output_type": "stream",
     "text": [
      "10\n",
      "1\n",
      "2\n",
      "3\n",
      "4\n",
      "5\n",
      "6\n",
      "7\n",
      "8\n",
      "9\n"
     ]
    }
   ],
   "source": [
    "print_nto1(10)"
   ]
  },
  {
   "cell_type": "code",
   "execution_count": 40,
   "id": "7c6e35df-78a2-4df8-a914-f3ba84a53588",
   "metadata": {},
   "outputs": [],
   "source": [
    "def print_1ton(n):\n",
    "    if n>0:\n",
    "        print_1ton(n-1)\n",
    "        print(n)"
   ]
  },
  {
   "cell_type": "code",
   "execution_count": 41,
   "id": "79cae8dc-783e-4b5e-9fee-d45c009ebc1f",
   "metadata": {},
   "outputs": [
    {
     "name": "stdout",
     "output_type": "stream",
     "text": [
      "1\n",
      "2\n",
      "3\n",
      "4\n",
      "5\n",
      "6\n",
      "7\n",
      "8\n",
      "9\n",
      "10\n"
     ]
    }
   ],
   "source": [
    "print_1ton(10)"
   ]
  },
  {
   "cell_type": "code",
   "execution_count": 47,
   "id": "fc00264e-e2f1-46ee-9d38-3f5f51be7c87",
   "metadata": {},
   "outputs": [],
   "source": [
    "def sum_n(n):\n",
    "    if n <= 0:\n",
    "        return 0\n",
    "    else:\n",
    "        return n + sum_n(n-1)"
   ]
  },
  {
   "cell_type": "code",
   "execution_count": 51,
   "id": "e85000ac-8069-429d-a081-f9bdbe8b2321",
   "metadata": {},
   "outputs": [
    {
     "data": {
      "text/plain": [
       "55"
      ]
     },
     "execution_count": 51,
     "metadata": {},
     "output_type": "execute_result"
    }
   ],
   "source": [
    "sum_n(10)"
   ]
  },
  {
   "cell_type": "code",
   "execution_count": 53,
   "id": "5425dd0e-243b-4fd0-affa-7e869d3a3518",
   "metadata": {},
   "outputs": [],
   "source": [
    "def fact_n(n):\n",
    "    if n == 1 or n == 0:\n",
    "        return n\n",
    "    elif n < 0:\n",
    "        raise Exception(\"Negative number is not allowed\")\n",
    "    else:\n",
    "        return n*fact_n(n-1)"
   ]
  },
  {
   "cell_type": "code",
   "execution_count": 56,
   "id": "ec80645e-d04f-4f99-acc0-ee9030965900",
   "metadata": {},
   "outputs": [
    {
     "data": {
      "text/plain": [
       "120"
      ]
     },
     "execution_count": 56,
     "metadata": {},
     "output_type": "execute_result"
    }
   ],
   "source": [
    "fact_n(5)"
   ]
  },
  {
   "cell_type": "code",
   "execution_count": 71,
   "id": "16e1159b-8dbb-4a9b-bf83-6c5131561dbd",
   "metadata": {},
   "outputs": [],
   "source": [
    "def rev_arr(arr,start,end):\n",
    "    if type(iter) is True:\n",
    "        raise Exception(\"Not an iterator\")\n",
    "    else:\n",
    "        if start<end:\n",
    "            arr[start], arr[end] = arr[end], arr[start]\n",
    "            rev_arr(arr,start+1,end-1)\n",
    "        "
   ]
  },
  {
   "cell_type": "code",
   "execution_count": 74,
   "id": "a32f59bf-2ce3-4cbe-8f43-d46e97311e0e",
   "metadata": {},
   "outputs": [],
   "source": [
    "arr = [1,3,4]\n",
    "rev_arr(arr, 0, 2)"
   ]
  },
  {
   "cell_type": "code",
   "execution_count": 75,
   "id": "6143c66b-6cf4-4e15-8805-980e8cf4a814",
   "metadata": {},
   "outputs": [
    {
     "data": {
      "text/plain": [
       "[4, 3, 1]"
      ]
     },
     "execution_count": 75,
     "metadata": {},
     "output_type": "execute_result"
    }
   ],
   "source": [
    "arr"
   ]
  },
  {
   "cell_type": "code",
   "execution_count": 87,
   "id": "fccecfba-ee0b-4b21-8c92-448a1bb95543",
   "metadata": {},
   "outputs": [],
   "source": [
    "def pali(s):\n",
    "    if len(s)<=1:\n",
    "        return True\n",
    "    else:\n",
    "        return  s[0] == s[1] and pali(s[1:-1])"
   ]
  },
  {
   "cell_type": "code",
   "execution_count": 88,
   "id": "6c9ee696-f9cf-4bcc-a943-457cfd6fd91e",
   "metadata": {
    "scrolled": true
   },
   "outputs": [
    {
     "data": {
      "text/plain": [
       "False"
      ]
     },
     "execution_count": 88,
     "metadata": {},
     "output_type": "execute_result"
    }
   ],
   "source": [
    "pali(\"ma\")"
   ]
  }
 ],
 "metadata": {
  "kernelspec": {
   "display_name": "Python 3 (ipykernel)",
   "language": "python",
   "name": "python3"
  },
  "language_info": {
   "codemirror_mode": {
    "name": "ipython",
    "version": 3
   },
   "file_extension": ".py",
   "mimetype": "text/x-python",
   "name": "python",
   "nbconvert_exporter": "python",
   "pygments_lexer": "ipython3",
   "version": "3.12.3"
  }
 },
 "nbformat": 4,
 "nbformat_minor": 5
}
