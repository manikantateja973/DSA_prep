{
 "cells": [
  {
   "cell_type": "code",
   "execution_count": 2,
   "id": "fcec3ac7-bdd6-42f4-9eac-3e222bb18352",
   "metadata": {},
   "outputs": [
    {
     "name": "stdout",
     "output_type": "stream",
     "text": [
      "*****\n",
      "*****\n",
      "*****\n",
      "*****\n",
      "*****\n"
     ]
    }
   ],
   "source": [
    "for i in range(5):\n",
    "    print(\"*****\")"
   ]
  },
  {
   "cell_type": "code",
   "execution_count": 3,
   "id": "4730b5ab-f70c-471c-98a2-967e32acc0ed",
   "metadata": {},
   "outputs": [
    {
     "name": "stdout",
     "output_type": "stream",
     "text": [
      "*\n",
      "**\n",
      "***\n",
      "****\n",
      "*****\n"
     ]
    }
   ],
   "source": [
    "for i in range(5):\n",
    "    print(\"*\" * (i+1))"
   ]
  },
  {
   "cell_type": "code",
   "execution_count": 4,
   "id": "53bfc10b-c56c-4c1c-b63e-96ac5b87c134",
   "metadata": {},
   "outputs": [
    {
     "name": "stdout",
     "output_type": "stream",
     "text": [
      "1\n",
      "\n",
      "12\n",
      "\n",
      "123\n",
      "\n",
      "1234\n",
      "\n",
      "12345\n",
      "\n"
     ]
    }
   ],
   "source": [
    "for i in range(5):\n",
    "    for j in range(i+1):\n",
    "        print((j+1), end='')\n",
    "    print(\"\\n\")"
   ]
  },
  {
   "cell_type": "code",
   "execution_count": 5,
   "id": "3e63b517-182a-4d70-a415-a4a49c5c7d8d",
   "metadata": {},
   "outputs": [
    {
     "name": "stdout",
     "output_type": "stream",
     "text": [
      "1\n",
      "\n",
      "22\n",
      "\n",
      "333\n",
      "\n",
      "4444\n",
      "\n",
      "55555\n",
      "\n"
     ]
    }
   ],
   "source": [
    "for i in range(5):\n",
    "    for j in range(i+1):\n",
    "        print((i+1), end='')\n",
    "    print(\"\\n\")"
   ]
  },
  {
   "cell_type": "code",
   "execution_count": 6,
   "id": "cabf3d52-23fa-41c8-abc0-4d949a48c6ef",
   "metadata": {},
   "outputs": [
    {
     "name": "stdout",
     "output_type": "stream",
     "text": [
      "*****\n",
      "****\n",
      "***\n",
      "**\n",
      "*\n"
     ]
    }
   ],
   "source": [
    "for i in range(5,0,-1):\n",
    "    print(\"*\" * (i))"
   ]
  },
  {
   "cell_type": "code",
   "execution_count": 7,
   "id": "479bbf67-80a5-4f76-9a1b-ac6200d020eb",
   "metadata": {},
   "outputs": [
    {
     "name": "stdout",
     "output_type": "stream",
     "text": [
      "   *\n",
      "  ***\n",
      " *****\n",
      "*******\n"
     ]
    }
   ],
   "source": [
    "for i in range(1,8,2):\n",
    "    print(((8-i)//2)*' ',end='')\n",
    "    print('*'*(i),end='\\n')\n",
    "    "
   ]
  },
  {
   "cell_type": "code",
   "execution_count": 8,
   "id": "87926f29-883c-482a-95c2-27dd9a0fbdbc",
   "metadata": {},
   "outputs": [
    {
     "name": "stdout",
     "output_type": "stream",
     "text": [
      "*******\n",
      " *****\n",
      "  ***\n",
      "   *\n"
     ]
    }
   ],
   "source": [
    "for i in range(7,-1,-2):\n",
    "    print(((8-i)//2)*' ',end='')\n",
    "    print('*'*(i),end='\\n')\n",
    "    "
   ]
  },
  {
   "cell_type": "code",
   "execution_count": 9,
   "id": "89045c45-24a4-4e35-b665-c8c8b6de49e9",
   "metadata": {},
   "outputs": [],
   "source": [
    "def dia_pyramid(n):\n",
    "    n *= 2\n",
    "    for i in range(1,n,2):\n",
    "        print(((n-i)//2)*' ',end='')\n",
    "        print('*'*(i),end='\\n')\n",
    "    for i in range((n-1),-1,-2):\n",
    "        print(((n-i)//2)*' ',end='')\n",
    "        print('*'*(i),end='\\n')"
   ]
  },
  {
   "cell_type": "code",
   "execution_count": 10,
   "id": "823ade0e-3b3e-48fc-a848-09cc70b72945",
   "metadata": {},
   "outputs": [
    {
     "name": "stdout",
     "output_type": "stream",
     "text": [
      "     *\n",
      "    ***\n",
      "   *****\n",
      "  *******\n",
      " *********\n",
      "***********\n",
      "***********\n",
      " *********\n",
      "  *******\n",
      "   *****\n",
      "    ***\n",
      "     *\n"
     ]
    }
   ],
   "source": [
    "dia_pyramid(6)"
   ]
  },
  {
   "cell_type": "code",
   "execution_count": 11,
   "id": "27206b24-00d4-4319-ace2-fc4cd2ab4d9b",
   "metadata": {},
   "outputs": [
    {
     "name": "stdout",
     "output_type": "stream",
     "text": [
      "  *\n",
      " ***\n",
      "*****\n",
      "*****\n",
      " ***\n",
      "  *\n"
     ]
    }
   ],
   "source": [
    "dia_pyramid(3)"
   ]
  },
  {
   "cell_type": "code",
   "execution_count": 12,
   "id": "70c82938-3ed3-4b19-bff8-13c0645df28e",
   "metadata": {},
   "outputs": [],
   "source": [
    "def arr_pyramid(n):\n",
    "    for i in range(0,n,1):\n",
    "        #print(((n-i)//2)*' ',end='')\n",
    "        print('*'*(i),end='\\n')\n",
    "    for i in range((n),-1,-1):\n",
    "        #print(((n-i)//2)*' ',end='')\n",
    "        print('*'*(i),end='\\n')"
   ]
  },
  {
   "cell_type": "code",
   "execution_count": 13,
   "id": "fcfb5643-cf57-4d49-b02b-2e85cf32bea0",
   "metadata": {},
   "outputs": [
    {
     "name": "stdout",
     "output_type": "stream",
     "text": [
      "\n",
      "*\n",
      "**\n",
      "***\n",
      "****\n",
      "*****\n",
      "******\n",
      "*****\n",
      "****\n",
      "***\n",
      "**\n",
      "*\n",
      "\n"
     ]
    }
   ],
   "source": [
    "arr_pyramid(6)"
   ]
  },
  {
   "cell_type": "code",
   "execution_count": 14,
   "id": "0393b734-cf4a-49ec-80ee-bb29a60ce81a",
   "metadata": {},
   "outputs": [],
   "source": [
    "def asc_binary(n):\n",
    "    b = False\n",
    "    for i in range(5):\n",
    "        for j in range(i+1):\n",
    "            b = not b\n",
    "            print(1*b, end=' ')\n",
    "        print(\"\\n\")"
   ]
  },
  {
   "cell_type": "code",
   "execution_count": 15,
   "id": "5e6d4a1f-eca8-43f6-b180-60d3b7e18de8",
   "metadata": {},
   "outputs": [
    {
     "name": "stdout",
     "output_type": "stream",
     "text": [
      "1 \n",
      "\n",
      "0 1 \n",
      "\n",
      "0 1 0 \n",
      "\n",
      "1 0 1 0 \n",
      "\n",
      "1 0 1 0 1 \n",
      "\n"
     ]
    }
   ],
   "source": [
    "asc_binary(5)"
   ]
  },
  {
   "cell_type": "code",
   "execution_count": 43,
   "id": "20bb54e2-461c-4f3a-b2c5-f9317631e77d",
   "metadata": {},
   "outputs": [],
   "source": [
    "def num_taj(n):\n",
    "    for i in range(1,n+1):\n",
    "        for j in range(i):\n",
    "            print(j+1,\" \"*(n-1-j)*2,j+1,end='')\n",
    "        print(\"\\n\")"
   ]
  },
  {
   "cell_type": "code",
   "execution_count": 45,
   "id": "fced92f9-1fa4-427a-addc-5634fade8a75",
   "metadata": {},
   "outputs": [
    {
     "name": "stdout",
     "output_type": "stream",
     "text": [
      "1        1\n",
      "\n",
      "1        12      2\n",
      "\n",
      "1        12      23    3\n",
      "\n",
      "1        12      23    34  4\n",
      "\n"
     ]
    }
   ],
   "source": [
    "num_taj(4)"
   ]
  },
  {
   "cell_type": "code",
   "execution_count": null,
   "id": "da212c3b-b885-4827-b415-a8d02acdf49e",
   "metadata": {},
   "outputs": [],
   "source": []
  },
  {
   "cell_type": "code",
   "execution_count": null,
   "id": "b5f43e27-00f4-4cea-a94c-7040ae9550b0",
   "metadata": {},
   "outputs": [],
   "source": []
  },
  {
   "cell_type": "code",
   "execution_count": null,
   "id": "135e15ce-e48e-4cb7-ad2d-4dd226b1194e",
   "metadata": {},
   "outputs": [],
   "source": []
  }
 ],
 "metadata": {
  "kernelspec": {
   "display_name": "Python 3 (ipykernel)",
   "language": "python",
   "name": "python3"
  },
  "language_info": {
   "codemirror_mode": {
    "name": "ipython",
    "version": 3
   },
   "file_extension": ".py",
   "mimetype": "text/x-python",
   "name": "python",
   "nbconvert_exporter": "python",
   "pygments_lexer": "ipython3",
   "version": "3.12.3"
  }
 },
 "nbformat": 4,
 "nbformat_minor": 5
}
