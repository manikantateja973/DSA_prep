{
 "cells": [
  {
   "cell_type": "code",
   "execution_count": 26,
   "id": "1b22f6b8-e3d8-489a-844a-f2e8ab05fa54",
   "metadata": {},
   "outputs": [],
   "source": [
    "import timeit\n",
    "import time\n",
    "import math"
   ]
  },
  {
   "cell_type": "code",
   "execution_count": 34,
   "id": "94820a62-69fa-4ee8-b51c-696cb363e80b",
   "metadata": {},
   "outputs": [],
   "source": [
    "def count_n(n):\n",
    "    return math.log10(n) + 1"
   ]
  },
  {
   "cell_type": "code",
   "execution_count": 43,
   "id": "ccbd2624-1cf3-40e9-befe-925e6c8b0ef1",
   "metadata": {},
   "outputs": [
    {
     "name": "stdout",
     "output_type": "stream",
     "text": [
      "2.0\n",
      "Time taken: 0.000144\n"
     ]
    }
   ],
   "source": [
    "start = time.time()\n",
    "print(count_n(10))\n",
    "end = time.time()\n",
    "print(f\"Time taken: {(end - start):.6f}\")"
   ]
  },
  {
   "cell_type": "code",
   "execution_count": 57,
   "id": "6f736afa-c6e1-4d6a-8131-b3bd9d6ee5c4",
   "metadata": {
    "scrolled": true
   },
   "outputs": [
    {
     "name": "stdout",
     "output_type": "stream",
     "text": [
      "Average time taken: 0.000011 seconds\n"
     ]
    }
   ],
   "source": [
    "number = 1000\n",
    "# Timer setup\n",
    "timer = timeit.Timer(lambda: count_n(number))\n",
    "time_taken = timeit.timeit(number=1000)\n",
    "print(f\"Average time taken: {time_taken:.6f} seconds\")"
   ]
  },
  {
   "cell_type": "code",
   "execution_count": 59,
   "id": "76e82b78-f2c4-4fb1-a724-f932a5cec87d",
   "metadata": {},
   "outputs": [],
   "source": [
    "def rev_num(n):\n",
    "    m = 0\n",
    "    while n > 0:\n",
    "        ld = n%10\n",
    "        m = m*10 + ld\n",
    "        n = n//10\n",
    "    return m        "
   ]
  },
  {
   "cell_type": "code",
   "execution_count": 60,
   "id": "ae57a225-d32e-4814-b88a-2663fa966f5e",
   "metadata": {},
   "outputs": [
    {
     "data": {
      "text/plain": [
       "1041"
      ]
     },
     "execution_count": 60,
     "metadata": {},
     "output_type": "execute_result"
    }
   ],
   "source": [
    "rev_num(140100)"
   ]
  },
  {
   "cell_type": "code",
   "execution_count": 90,
   "id": "5e4db40c-e93a-4310-8f24-e3c97f4baa2a",
   "metadata": {},
   "outputs": [
    {
     "name": "stdout",
     "output_type": "stream",
     "text": [
      "Average time taken: 0.0000157 seconds\n"
     ]
    }
   ],
   "source": [
    "number = 1000\n",
    "# Timer setup\n",
    "timer = timeit.Timer(lambda: rev_num(number))\n",
    "time_taken = timeit.timeit(number=1000)\n",
    "print(f\"Average time taken: {time_taken:.7f} seconds\")"
   ]
  },
  {
   "cell_type": "code",
   "execution_count": 87,
   "id": "580b7090-0dd7-4349-a243-618fa73aa75d",
   "metadata": {},
   "outputs": [
    {
     "name": "stdout",
     "output_type": "stream",
     "text": [
      "Average time taken: 0.0000166 seconds\n"
     ]
    }
   ],
   "source": [
    "number = 1000\n",
    "# Timer setup\n",
    "timer = timeit.Timer(lambda: int((str(number))[::-1]))\n",
    "time_taken = timeit.timeit(number=1000)\n",
    "print(f\"Average time taken: {time_taken:.7f} seconds\")"
   ]
  },
  {
   "cell_type": "code",
   "execution_count": 92,
   "id": "ee259c54-5e41-4109-925e-e30527df5ee5",
   "metadata": {},
   "outputs": [],
   "source": [
    "def pali_num(n):\n",
    "     m = str(n)\n",
    "     return m == m[::-1]   "
   ]
  },
  {
   "cell_type": "code",
   "execution_count": 95,
   "id": "09b96b60-795f-439e-ad81-2d1343bbd39c",
   "metadata": {},
   "outputs": [
    {
     "data": {
      "text/plain": [
       "False"
      ]
     },
     "execution_count": 95,
     "metadata": {},
     "output_type": "execute_result"
    }
   ],
   "source": [
    "pali_num(1332)"
   ]
  },
  {
   "cell_type": "code",
   "execution_count": 125,
   "id": "137ce4c5-56eb-495d-99d8-5152b40e369a",
   "metadata": {},
   "outputs": [],
   "source": [
    "def gcd(n1,n2):\n",
    "    if n2 == 0 or n2 == 1:\n",
    "        return n1\n",
    "    # elif n1 == 0 or n2 == 0:\n",
    "        # return 0\n",
    "    else:\n",
    "        k = n2\n",
    "        n2 = n1%n2\n",
    "        n1 = k\n",
    "        return gcd(n1,n2)"
   ]
  },
  {
   "cell_type": "code",
   "execution_count": 127,
   "id": "0e1361da-a8f9-4984-9768-c945d1fd8686",
   "metadata": {},
   "outputs": [
    {
     "data": {
      "text/plain": [
       "(3, 5, 5)"
      ]
     },
     "execution_count": 127,
     "metadata": {},
     "output_type": "execute_result"
    }
   ],
   "source": [
    "gcd(9,12), gcd(20,15), gcd(15,20)"
   ]
  },
  {
   "cell_type": "code",
   "execution_count": 131,
   "id": "136ed5b4-b1df-432a-b2f5-f52489dc6ab5",
   "metadata": {},
   "outputs": [],
   "source": [
    "def amrstrong(n):\n",
    "    p = len(str(n))\n",
    "    _ = n\n",
    "    s = 0\n",
    "    while n > 0:\n",
    "        s = (n%10)**p + s\n",
    "        n = n//10\n",
    "    return _ == s"
   ]
  },
  {
   "cell_type": "code",
   "execution_count": 133,
   "id": "44b9fe73-33a3-4e39-b270-e65df4d6c2d7",
   "metadata": {},
   "outputs": [
    {
     "data": {
      "text/plain": [
       "(True, True, False)"
      ]
     },
     "execution_count": 133,
     "metadata": {},
     "output_type": "execute_result"
    }
   ],
   "source": [
    "amrstrong(153), amrstrong(371), amrstrong(10)"
   ]
  },
  {
   "cell_type": "code",
   "execution_count": 163,
   "id": "b76ab2a5-377a-4cf0-a947-7807d96d3fe1",
   "metadata": {},
   "outputs": [],
   "source": [
    "def divisors(n):\n",
    "    l = []\n",
    "    for i in range(1,int(n**0.5)+1):\n",
    "        if n % i == 0:\n",
    "            l.append(i)\n",
    "            if i != n//i:\n",
    "                l.append(n//i)\n",
    "    return l"
   ]
  },
  {
   "cell_type": "code",
   "execution_count": 164,
   "id": "9b8ecf73-835e-40cf-a27a-cade653bbae9",
   "metadata": {},
   "outputs": [
    {
     "data": {
      "text/plain": [
       "[1, 371, 7, 53]"
      ]
     },
     "execution_count": 164,
     "metadata": {},
     "output_type": "execute_result"
    }
   ],
   "source": [
    "divisors(371)"
   ]
  },
  {
   "cell_type": "code",
   "execution_count": 165,
   "id": "469b03bb-95a0-4421-8e42-08b3a42c4b61",
   "metadata": {},
   "outputs": [
    {
     "data": {
      "text/plain": [
       "[1, 36, 2, 18, 3, 12, 4, 9, 6]"
      ]
     },
     "execution_count": 165,
     "metadata": {},
     "output_type": "execute_result"
    }
   ],
   "source": [
    "divisors(36)"
   ]
  },
  {
   "cell_type": "code",
   "execution_count": 174,
   "id": "c8bd8f2f-a65c-4901-8d09-382496c92fe7",
   "metadata": {},
   "outputs": [],
   "source": [
    "def prime(n):\n",
    "    cnt = 0\n",
    "    for i in range(1,int(n**0.5)+1):\n",
    "        if n % i == 0:\n",
    "            cnt += 1\n",
    "            if i != n//i:\n",
    "                cnt += 1\n",
    "    return True if cnt == 2 else False"
   ]
  },
  {
   "cell_type": "code",
   "execution_count": 175,
   "id": "5127f8dc-9d71-4e28-a14b-4019b573e995",
   "metadata": {},
   "outputs": [
    {
     "data": {
      "text/plain": [
       "False"
      ]
     },
     "execution_count": 175,
     "metadata": {},
     "output_type": "execute_result"
    }
   ],
   "source": [
    "prime(12)"
   ]
  }
 ],
 "metadata": {
  "kernelspec": {
   "display_name": "Python 3 (ipykernel)",
   "language": "python",
   "name": "python3"
  },
  "language_info": {
   "codemirror_mode": {
    "name": "ipython",
    "version": 3
   },
   "file_extension": ".py",
   "mimetype": "text/x-python",
   "name": "python",
   "nbconvert_exporter": "python",
   "pygments_lexer": "ipython3",
   "version": "3.12.3"
  }
 },
 "nbformat": 4,
 "nbformat_minor": 5
}
