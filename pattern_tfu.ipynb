{
 "cells": [
  {
   "cell_type": "code",
   "execution_count": 159,
   "id": "fcec3ac7-bdd6-42f4-9eac-3e222bb18352",
   "metadata": {},
   "outputs": [
    {
     "name": "stdout",
     "output_type": "stream",
     "text": [
      "*****\n",
      "*****\n",
      "*****\n",
      "*****\n",
      "*****\n"
     ]
    }
   ],
   "source": [
    "for i in range(5):\n",
    "    print(\"*****\")"
   ]
  },
  {
   "cell_type": "code",
   "execution_count": 160,
   "id": "4730b5ab-f70c-471c-98a2-967e32acc0ed",
   "metadata": {},
   "outputs": [
    {
     "name": "stdout",
     "output_type": "stream",
     "text": [
      "*\n",
      "**\n",
      "***\n",
      "****\n",
      "*****\n"
     ]
    }
   ],
   "source": [
    "for i in range(5):\n",
    "    print(\"*\" * (i+1))"
   ]
  },
  {
   "cell_type": "code",
   "execution_count": 161,
   "id": "53bfc10b-c56c-4c1c-b63e-96ac5b87c134",
   "metadata": {},
   "outputs": [
    {
     "name": "stdout",
     "output_type": "stream",
     "text": [
      "1\n",
      "\n",
      "12\n",
      "\n",
      "123\n",
      "\n",
      "1234\n",
      "\n",
      "12345\n",
      "\n"
     ]
    }
   ],
   "source": [
    "for i in range(5):\n",
    "    for j in range(i+1):\n",
    "        print((j+1), end='')\n",
    "    print(\"\\n\")"
   ]
  },
  {
   "cell_type": "code",
   "execution_count": 162,
   "id": "3e63b517-182a-4d70-a415-a4a49c5c7d8d",
   "metadata": {},
   "outputs": [
    {
     "name": "stdout",
     "output_type": "stream",
     "text": [
      "1\n",
      "\n",
      "22\n",
      "\n",
      "333\n",
      "\n",
      "4444\n",
      "\n",
      "55555\n",
      "\n"
     ]
    }
   ],
   "source": [
    "for i in range(5):\n",
    "    for j in range(i+1):\n",
    "        print((i+1), end='')\n",
    "    print(\"\\n\")"
   ]
  },
  {
   "cell_type": "code",
   "execution_count": 163,
   "id": "cabf3d52-23fa-41c8-abc0-4d949a48c6ef",
   "metadata": {},
   "outputs": [
    {
     "name": "stdout",
     "output_type": "stream",
     "text": [
      "*****\n",
      "****\n",
      "***\n",
      "**\n",
      "*\n"
     ]
    }
   ],
   "source": [
    "for i in range(5,0,-1):\n",
    "    print(\"*\" * (i))"
   ]
  },
  {
   "cell_type": "code",
   "execution_count": 164,
   "id": "479bbf67-80a5-4f76-9a1b-ac6200d020eb",
   "metadata": {},
   "outputs": [
    {
     "name": "stdout",
     "output_type": "stream",
     "text": [
      "   *\n",
      "  ***\n",
      " *****\n",
      "*******\n"
     ]
    }
   ],
   "source": [
    "for i in range(1,8,2):\n",
    "    print(((8-i)//2)*' ',end='')\n",
    "    print('*'*(i),end='\\n')\n",
    "    "
   ]
  },
  {
   "cell_type": "code",
   "execution_count": 165,
   "id": "87926f29-883c-482a-95c2-27dd9a0fbdbc",
   "metadata": {},
   "outputs": [
    {
     "name": "stdout",
     "output_type": "stream",
     "text": [
      "*******\n",
      " *****\n",
      "  ***\n",
      "   *\n"
     ]
    }
   ],
   "source": [
    "for i in range(7,-1,-2):\n",
    "    print(((8-i)//2)*' ',end='')\n",
    "    print('*'*(i),end='\\n')\n",
    "    "
   ]
  },
  {
   "cell_type": "code",
   "execution_count": 166,
   "id": "89045c45-24a4-4e35-b665-c8c8b6de49e9",
   "metadata": {},
   "outputs": [],
   "source": [
    "def dia_pyramid(n):\n",
    "    n *= 2\n",
    "    for i in range(1,n,2):\n",
    "        print(((n-i)//2)*' ',end='')\n",
    "        print('*'*(i),end='\\n')\n",
    "    for i in range((n-1),-1,-2):\n",
    "        print(((n-i)//2)*' ',end='')\n",
    "        print('*'*(i),end='\\n')"
   ]
  },
  {
   "cell_type": "code",
   "execution_count": 167,
   "id": "823ade0e-3b3e-48fc-a848-09cc70b72945",
   "metadata": {},
   "outputs": [
    {
     "name": "stdout",
     "output_type": "stream",
     "text": [
      "     *\n",
      "    ***\n",
      "   *****\n",
      "  *******\n",
      " *********\n",
      "***********\n",
      "***********\n",
      " *********\n",
      "  *******\n",
      "   *****\n",
      "    ***\n",
      "     *\n"
     ]
    }
   ],
   "source": [
    "dia_pyramid(6)"
   ]
  },
  {
   "cell_type": "code",
   "execution_count": 168,
   "id": "27206b24-00d4-4319-ace2-fc4cd2ab4d9b",
   "metadata": {},
   "outputs": [
    {
     "name": "stdout",
     "output_type": "stream",
     "text": [
      "  *\n",
      " ***\n",
      "*****\n",
      "*****\n",
      " ***\n",
      "  *\n"
     ]
    }
   ],
   "source": [
    "dia_pyramid(3)"
   ]
  },
  {
   "cell_type": "code",
   "execution_count": 169,
   "id": "70c82938-3ed3-4b19-bff8-13c0645df28e",
   "metadata": {},
   "outputs": [],
   "source": [
    "def arr_pyramid(n):\n",
    "    for i in range(0,n,1):\n",
    "        #print(((n-i)//2)*' ',end='')\n",
    "        print('*'*(i),end='\\n')\n",
    "    for i in range((n),-1,-1):\n",
    "        #print(((n-i)//2)*' ',end='')\n",
    "        print('*'*(i),end='\\n')"
   ]
  },
  {
   "cell_type": "code",
   "execution_count": 170,
   "id": "fcfb5643-cf57-4d49-b02b-2e85cf32bea0",
   "metadata": {},
   "outputs": [
    {
     "name": "stdout",
     "output_type": "stream",
     "text": [
      "\n",
      "*\n",
      "**\n",
      "***\n",
      "****\n",
      "*****\n",
      "******\n",
      "*****\n",
      "****\n",
      "***\n",
      "**\n",
      "*\n",
      "\n"
     ]
    }
   ],
   "source": [
    "arr_pyramid(6)"
   ]
  },
  {
   "cell_type": "code",
   "execution_count": 171,
   "id": "0393b734-cf4a-49ec-80ee-bb29a60ce81a",
   "metadata": {},
   "outputs": [],
   "source": [
    "def asc_binary(n):\n",
    "    b = False\n",
    "    for i in range(n):\n",
    "        for j in range(i+1):\n",
    "            b = not b\n",
    "            print(1*b, end=' ')\n",
    "        print(\"\\n\")"
   ]
  },
  {
   "cell_type": "code",
   "execution_count": 172,
   "id": "5e6d4a1f-eca8-43f6-b180-60d3b7e18de8",
   "metadata": {},
   "outputs": [
    {
     "name": "stdout",
     "output_type": "stream",
     "text": [
      "1 \n",
      "\n",
      "0 1 \n",
      "\n",
      "0 1 0 \n",
      "\n",
      "1 0 1 0 \n",
      "\n",
      "1 0 1 0 1 \n",
      "\n"
     ]
    }
   ],
   "source": [
    "asc_binary(5)"
   ]
  },
  {
   "cell_type": "code",
   "execution_count": 173,
   "id": "20bb54e2-461c-4f3a-b2c5-f9317631e77d",
   "metadata": {},
   "outputs": [],
   "source": [
    "def num_taj(n):\n",
    "    for i in range(1,n+1):\n",
    "        for j in range(i):\n",
    "            print(j+1,\" \"*(n-1-j)*2,j+1,end='')\n",
    "        print(\"\\n\")"
   ]
  },
  {
   "cell_type": "code",
   "execution_count": 174,
   "id": "fced92f9-1fa4-427a-addc-5634fade8a75",
   "metadata": {},
   "outputs": [
    {
     "name": "stdout",
     "output_type": "stream",
     "text": [
      "1        1\n",
      "\n",
      "1        12      2\n",
      "\n",
      "1        12      23    3\n",
      "\n",
      "1        12      23    34  4\n",
      "\n"
     ]
    }
   ],
   "source": [
    "num_taj(4)"
   ]
  },
  {
   "cell_type": "code",
   "execution_count": 175,
   "id": "7c087f12-fe84-4dd2-8a9d-9a8dd1fef530",
   "metadata": {},
   "outputs": [],
   "source": [
    "def asc_num(n):\n",
    "    for i in range(1,n+1):\n",
    "        m = ''\n",
    "        for j in range(1,i+1):\n",
    "            m += str(j)\n",
    "        print(m, end='')\n",
    "        print(' '*(n-i)*2,end='')\n",
    "        print(m[::-1], end='\\n')"
   ]
  },
  {
   "cell_type": "code",
   "execution_count": 176,
   "id": "da212c3b-b885-4827-b415-a8d02acdf49e",
   "metadata": {},
   "outputs": [
    {
     "name": "stdout",
     "output_type": "stream",
     "text": [
      "1                1\n",
      "12              21\n",
      "123            321\n",
      "1234          4321\n",
      "12345        54321\n",
      "123456      654321\n",
      "1234567    7654321\n",
      "12345678  87654321\n",
      "123456789987654321\n"
     ]
    }
   ],
   "source": [
    "asc_num(9)"
   ]
  },
  {
   "cell_type": "code",
   "execution_count": 177,
   "id": "a8279de8-faba-4527-b623-f69ef0b6dd9d",
   "metadata": {},
   "outputs": [],
   "source": [
    "def asc_alphabets(n):\n",
    "    al = 'ABCDEFGHIJKLMNOPQRSTUVWXYZ'\n",
    "    for i in range(n):\n",
    "        for j in range(i+1):\n",
    "            print(al[j], end='')\n",
    "        print(\"\\n\")"
   ]
  },
  {
   "cell_type": "code",
   "execution_count": 178,
   "id": "b5f43e27-00f4-4cea-a94c-7040ae9550b0",
   "metadata": {},
   "outputs": [
    {
     "name": "stdout",
     "output_type": "stream",
     "text": [
      "A\n",
      "\n",
      "AB\n",
      "\n",
      "ABC\n",
      "\n",
      "ABCD\n",
      "\n",
      "ABCDE\n",
      "\n",
      "ABCDEF\n",
      "\n",
      "ABCDEFG\n",
      "\n"
     ]
    }
   ],
   "source": [
    "asc_alphabets(7)"
   ]
  },
  {
   "cell_type": "code",
   "execution_count": 179,
   "id": "d8b306e5-3657-4e74-90aa-bb55d27bc386",
   "metadata": {},
   "outputs": [],
   "source": [
    "def desc_alphabets(n):\n",
    "    al = 'ABCDEFGHIJKLMNOPQRSTUVWXYZ'\n",
    "    for i in range(n, 0, -1):\n",
    "        for j in range(i):\n",
    "            print(al[j], end='')\n",
    "        print(\"\\n\")"
   ]
  },
  {
   "cell_type": "code",
   "execution_count": 180,
   "id": "135e15ce-e48e-4cb7-ad2d-4dd226b1194e",
   "metadata": {},
   "outputs": [
    {
     "name": "stdout",
     "output_type": "stream",
     "text": [
      "ABCDE\n",
      "\n",
      "ABCD\n",
      "\n",
      "ABC\n",
      "\n",
      "AB\n",
      "\n",
      "A\n",
      "\n"
     ]
    }
   ],
   "source": [
    "desc_alphabets(5)"
   ]
  },
  {
   "cell_type": "code",
   "execution_count": 181,
   "id": "05795101-de11-4715-8c3f-04a3133e1e7f",
   "metadata": {},
   "outputs": [],
   "source": [
    "def asc_alphabets_same(n):\n",
    "    al = 'ABCDEFGHIJKLMNOPQRSTUVWXYZ'\n",
    "    b = 0\n",
    "    for i in range(n):\n",
    "        for j in range(i+1):\n",
    "            print(al[b], end='')\n",
    "        b+=1\n",
    "        print(\"\\n\")"
   ]
  },
  {
   "cell_type": "code",
   "execution_count": 182,
   "id": "9d351564-65b5-49dd-b424-6e7d0fcb0a8d",
   "metadata": {},
   "outputs": [
    {
     "name": "stdout",
     "output_type": "stream",
     "text": [
      "A\n",
      "\n",
      "BB\n",
      "\n",
      "CCC\n",
      "\n",
      "DDDD\n",
      "\n",
      "EEEEE\n",
      "\n"
     ]
    }
   ],
   "source": [
    "asc_alphabets_same(5)"
   ]
  },
  {
   "cell_type": "code",
   "execution_count": 183,
   "id": "2acf480c-c87a-4dcb-a431-a865004aa2f2",
   "metadata": {},
   "outputs": [],
   "source": [
    "def tri_alphabets(n):\n",
    "    al = 'ABCDEFGHIJKLMNOPQRSTUVWXYZ'\n",
    "    b = 0\n",
    "    for i in range(n,0,-1):\n",
    "        for j in range(i,n+1):\n",
    "            print(al[j-1], end=' ')\n",
    "        b+=1\n",
    "        print(\"\\n\")"
   ]
  },
  {
   "cell_type": "code",
   "execution_count": 184,
   "id": "fd4a594a-e97b-4442-8b8d-781a150352a3",
   "metadata": {},
   "outputs": [
    {
     "name": "stdout",
     "output_type": "stream",
     "text": [
      "E \n",
      "\n",
      "D E \n",
      "\n",
      "C D E \n",
      "\n",
      "B C D E \n",
      "\n",
      "A B C D E \n",
      "\n"
     ]
    }
   ],
   "source": [
    "tri_alphabets(5)"
   ]
  },
  {
   "cell_type": "code",
   "execution_count": 185,
   "id": "f7e8a06b-e687-4322-8120-21695b59d990",
   "metadata": {},
   "outputs": [],
   "source": [
    "def pyramid_alpha(n):\n",
    "    al = 'ABCDEFGHIJKLMNOPQRSTUVWXYZ'\n",
    "    b = 0\n",
    "    for i in range(1,n,1):\n",
    "        print(((n-i))*' ',end='')\n",
    "        print(al[0:b]+ '' + al[b]+ '' + al[0:b][::-1],end='\\n')\n",
    "        b = b + 1"
   ]
  },
  {
   "cell_type": "code",
   "execution_count": 186,
   "id": "1bd64f26-843b-4422-a297-2d2ed69df0c3",
   "metadata": {},
   "outputs": [
    {
     "name": "stdout",
     "output_type": "stream",
     "text": [
      "       A\n",
      "      ABA\n",
      "     ABCBA\n",
      "    ABCDCBA\n",
      "   ABCDEDCBA\n",
      "  ABCDEFEDCBA\n",
      " ABCDEFGFEDCBA\n"
     ]
    }
   ],
   "source": [
    "pyramid_alpha(8)"
   ]
  },
  {
   "cell_type": "code",
   "execution_count": 187,
   "id": "43569864-7cfb-43ed-888e-1b658bfe2703",
   "metadata": {},
   "outputs": [],
   "source": [
    "def square_marks(n):\n",
    "    for i in range(0,n):\n",
    "        if i == 0 or i == n-1:\n",
    "            print('* ' * n)\n",
    "        else:\n",
    "            s = ' '*(n-2)\n",
    "            print('* '+' '*(n-2)*2+'*')"
   ]
  },
  {
   "cell_type": "code",
   "execution_count": 188,
   "id": "a2e854dc-4f6c-469d-a3d7-f88c1a0733b7",
   "metadata": {},
   "outputs": [
    {
     "name": "stdout",
     "output_type": "stream",
     "text": [
      "* * * * \n",
      "*     *\n",
      "*     *\n",
      "* * * * \n"
     ]
    }
   ],
   "source": [
    "square_marks(4)"
   ]
  },
  {
   "cell_type": "code",
   "execution_count": 189,
   "id": "219c5467-8951-4969-9b9b-76d2a4f251f9",
   "metadata": {},
   "outputs": [],
   "source": [
    "def box_star_out(n):\n",
    "    for i in range(1,n+1):\n",
    "        m = '*'\n",
    "        for j in range(1,i):\n",
    "            m += '*'\n",
    "        print(m, end='')\n",
    "        print(' '*(n-i)*2,end='')\n",
    "        print(m[::-1], end='\\n')\n",
    "    for i in range(n-1,0,-1):\n",
    "        m = '*'\n",
    "        for j in range(1,i):\n",
    "            m += '*'\n",
    "        print(m, end='')\n",
    "        print(' '*(n-i)*2,end='')\n",
    "        print(m[::-1], end='\\n')"
   ]
  },
  {
   "cell_type": "code",
   "execution_count": 190,
   "id": "532112ee-9877-4355-b510-bd265783005a",
   "metadata": {},
   "outputs": [
    {
     "name": "stdout",
     "output_type": "stream",
     "text": [
      "*        *\n",
      "**      **\n",
      "***    ***\n",
      "****  ****\n",
      "**********\n",
      "****  ****\n",
      "***    ***\n",
      "**      **\n",
      "*        *\n"
     ]
    }
   ],
   "source": [
    "box_star_out(5)"
   ]
  },
  {
   "cell_type": "code",
   "execution_count": 191,
   "id": "c5861dae-3a9c-4ea9-a203-229e36c14c23",
   "metadata": {},
   "outputs": [],
   "source": [
    "def box_star_in(n):\n",
    "    for i in range(n,0,-1):\n",
    "        m = '*'\n",
    "        for j in range(1,i):\n",
    "            m += '*'\n",
    "        print(m, end='')\n",
    "        print(' '*(n-i)*2,end='')\n",
    "        print(m[::-1], end='\\n')\n",
    "    for i in range(1,n+1):\n",
    "        m = '*'\n",
    "        for j in range(1,i):\n",
    "            m += '*'\n",
    "        print(m, end='')\n",
    "        print(' '*(n-i)*2,end='')\n",
    "        print(m[::-1], end='\\n')\n"
   ]
  },
  {
   "cell_type": "code",
   "execution_count": 192,
   "id": "eab73e2a-0d72-4d14-aa50-38d79fd32a39",
   "metadata": {},
   "outputs": [
    {
     "name": "stdout",
     "output_type": "stream",
     "text": [
      "**********\n",
      "****  ****\n",
      "***    ***\n",
      "**      **\n",
      "*        *\n",
      "*        *\n",
      "**      **\n",
      "***    ***\n",
      "****  ****\n",
      "**********\n"
     ]
    }
   ],
   "source": [
    "box_star_in(5)"
   ]
  },
  {
   "cell_type": "code",
   "execution_count": 193,
   "id": "f10e5183-577f-4813-b9c7-35c36457d02a",
   "metadata": {},
   "outputs": [],
   "source": [
    "def square_num(n):\n",
    "    for i in range(n*2-1):\n",
    "        for j in range(n*2-1):\n",
    "            top = i\n",
    "            bottom = j\n",
    "            right = (2*n-2) - j\n",
    "            left = (2*n-2) - i\n",
    "            print(n - min(min(top,bottom), min(left,right)), end=' ')\n",
    "        print('\\n')        "
   ]
  },
  {
   "cell_type": "code",
   "execution_count": 194,
   "id": "30dfbc1c-aa07-4ee5-8685-914d567d9f2c",
   "metadata": {
    "scrolled": true
   },
   "outputs": [
    {
     "name": "stdout",
     "output_type": "stream",
     "text": [
      "4 4 4 4 4 4 4 \n",
      "\n",
      "4 3 3 3 3 3 4 \n",
      "\n",
      "4 3 2 2 2 3 4 \n",
      "\n",
      "4 3 2 1 2 3 4 \n",
      "\n",
      "4 3 2 2 2 3 4 \n",
      "\n",
      "4 3 3 3 3 3 4 \n",
      "\n",
      "4 4 4 4 4 4 4 \n",
      "\n"
     ]
    }
   ],
   "source": [
    "square_num(4)"
   ]
  },
  {
   "cell_type": "markdown",
   "id": "99fdb828-6abe-41fc-b45f-d4a5057b70c7",
   "metadata": {},
   "source": [
    "THE END"
   ]
  }
 ],
 "metadata": {
  "kernelspec": {
   "display_name": "Python 3 (ipykernel)",
   "language": "python",
   "name": "python3"
  },
  "language_info": {
   "codemirror_mode": {
    "name": "ipython",
    "version": 3
   },
   "file_extension": ".py",
   "mimetype": "text/x-python",
   "name": "python",
   "nbconvert_exporter": "python",
   "pygments_lexer": "ipython3",
   "version": "3.12.3"
  }
 },
 "nbformat": 4,
 "nbformat_minor": 5
}
