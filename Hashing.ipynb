{
 "cells": [
  {
   "cell_type": "code",
   "execution_count": 3,
   "id": "0355293e-f9c8-4a25-9205-1389b00782de",
   "metadata": {},
   "outputs": [],
   "source": [
    "def basic_hashing(arr, query):\n",
    "    m = max(max(arr,query))\n",
    "    hash = [0]*(m+1) \n",
    "    for i in range(len(arr)):\n",
    "        hash[arr[i]] += 1\n",
    "    l = []\n",
    "    for j in query:\n",
    "        l.append(hash[j])\n",
    "    return l\n",
    "    "
   ]
  },
  {
   "cell_type": "code",
   "execution_count": 4,
   "id": "ca26da75-d1f1-4e4a-9760-1e1cb1fa309d",
   "metadata": {},
   "outputs": [
    {
     "data": {
      "text/plain": [
       "[2, 2, 0, 0]"
      ]
     },
     "execution_count": 4,
     "metadata": {},
     "output_type": "execute_result"
    }
   ],
   "source": [
    "basic_hashing([1,2,1,3,2], [1,2,4,12]) # number cannot be more than 12"
   ]
  },
  {
   "cell_type": "code",
   "execution_count": 9,
   "id": "39fe3fdf-64b4-4f9b-8bfd-153e99b73c76",
   "metadata": {},
   "outputs": [
    {
     "data": {
      "text/plain": [
       "[0, 0]"
      ]
     },
     "execution_count": 9,
     "metadata": {},
     "output_type": "execute_result"
    }
   ],
   "source": [
    "basic_hashing([1], [11,12]) "
   ]
  },
  {
   "cell_type": "code",
   "execution_count": 6,
   "id": "b61eafc4-4a35-42ba-aee6-b9a62f5add6a",
   "metadata": {},
   "outputs": [
    {
     "data": {
      "text/plain": [
       "[2, 1]"
      ]
     },
     "execution_count": 6,
     "metadata": {},
     "output_type": "execute_result"
    }
   ],
   "source": [
    "basic_hashing([1,32,1,3,2], [1,2]) # number cannot be more than 12"
   ]
  },
  {
   "cell_type": "code",
   "execution_count": 62,
   "id": "0a871613-2f0a-4aaa-95ee-73351f4cb63c",
   "metadata": {},
   "outputs": [],
   "source": [
    "def basic_char_hashing(arr, query):\n",
    "    hash = [0] * 256\n",
    "    for i in arr:\n",
    "        hash[ord(i)] += 1\n",
    "    l = []\n",
    "    for j in query:\n",
    "        l.append(hash[ord(j)])\n",
    "    return l"
   ]
  },
  {
   "cell_type": "code",
   "execution_count": 66,
   "id": "ba91d7e1-5716-42be-b94d-212ba00963ab",
   "metadata": {},
   "outputs": [
    {
     "data": {
      "text/plain": [
       "[3, 0, 1, 0, 0, 0, 1, 0, 1, 0]"
      ]
     },
     "execution_count": 66,
     "metadata": {},
     "output_type": "execute_result"
    }
   ],
   "source": [
    "basic_char_hashing('manikanta#07', 'aeiou!#$01')"
   ]
  },
  {
   "cell_type": "code",
   "execution_count": 85,
   "id": "929f3b3e-e854-4d01-8136-007c05ac0f2d",
   "metadata": {},
   "outputs": [],
   "source": [
    "def hashing_using_dict(arr,query):\n",
    "    d = {}\n",
    "    for i in arr:\n",
    "        d[i] = 0\n",
    "    for i in arr:\n",
    "        d[i] += 1\n",
    "    l = []\n",
    "    for i in query:\n",
    "        if i in d:\n",
    "            l.append(d[i])\n",
    "        else:\n",
    "            l.append(0)\n",
    "    return d,l"
   ]
  },
  {
   "cell_type": "code",
   "execution_count": 86,
   "id": "35426959-56ba-4ab1-90b8-9dfd83079987",
   "metadata": {},
   "outputs": [
    {
     "data": {
      "text/plain": [
       "({1: 2, 2: 2, 3: 1, 10: 1}, [2, 2, 0, 1])"
      ]
     },
     "execution_count": 86,
     "metadata": {},
     "output_type": "execute_result"
    }
   ],
   "source": [
    "hashing_using_dict([1,2,1,3,2,10], [1,2,4,3])"
   ]
  },
  {
   "cell_type": "code",
   "execution_count": 81,
   "id": "ba1fa0c0-b72c-4c37-9cba-0576a5815074",
   "metadata": {},
   "outputs": [
    {
     "data": {
      "text/plain": [
       "2"
      ]
     },
     "execution_count": 81,
     "metadata": {},
     "output_type": "execute_result"
    }
   ],
   "source": [
    "d = {'a':1,'b':2}\n",
    "d['b']"
   ]
  },
  {
   "cell_type": "code",
   "execution_count": 51,
   "id": "d1d8d38c-8705-46af-b936-4257a025a4aa",
   "metadata": {},
   "outputs": [],
   "source": [
    "def high_low_freq(arr):\n",
    "    dict = {}\n",
    "    for i in arr:\n",
    "        dict[i] = 0\n",
    "    for j in arr:\n",
    "        dict[j] += 1\n",
    "    mx, mn = 0,0\n",
    "    x = max(dict.values())\n",
    "    i = min(dict.values())\n",
    "    for m,n in dict.items():\n",
    "        if n == x:\n",
    "            mx = m\n",
    "        elif n == i:\n",
    "            mn = m\n",
    "    return mx,mn"
   ]
  },
  {
   "cell_type": "code",
   "execution_count": 52,
   "id": "d90622f5-1193-4331-875f-a3d16fd0507f",
   "metadata": {},
   "outputs": [
    {
     "data": {
      "text/plain": [
       "(10, 15)"
      ]
     },
     "execution_count": 52,
     "metadata": {},
     "output_type": "execute_result"
    }
   ],
   "source": [
    "high_low_freq([10,5,10,15,10,5])"
   ]
  }
 ],
 "metadata": {
  "kernelspec": {
   "display_name": "Python 3 (ipykernel)",
   "language": "python",
   "name": "python3"
  },
  "language_info": {
   "codemirror_mode": {
    "name": "ipython",
    "version": 3
   },
   "file_extension": ".py",
   "mimetype": "text/x-python",
   "name": "python",
   "nbconvert_exporter": "python",
   "pygments_lexer": "ipython3",
   "version": "3.12.3"
  }
 },
 "nbformat": 4,
 "nbformat_minor": 5
}
